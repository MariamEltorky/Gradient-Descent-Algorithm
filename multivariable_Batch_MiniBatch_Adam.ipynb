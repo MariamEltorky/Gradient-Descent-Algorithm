{
 "cells": [
  {
   "cell_type": "markdown",
   "id": "32b92576",
   "metadata": {
    "id": "32b92576"
   },
   "source": [
    "Implementation of the Adam (Batch Version) algorithm to train a multivariable linear regression model\n",
    " Then Update The implementation to work for mini-batch Using \"MultipleLR\" Dataset."
   ]
  },
  {
   "cell_type": "code",
   "execution_count": 1,
   "id": "0cbf0144",
   "metadata": {
    "id": "0cbf0144"
   },
   "outputs": [],
   "source": [
    "import numpy as np\n",
    "import pandas as pd\n",
    "import matplotlib.pyplot as plt"
   ]
  },
  {
   "cell_type": "code",
   "execution_count": 2,
   "id": "a858a19f",
   "metadata": {},
   "outputs": [
    {
     "name": "stdout",
     "output_type": "stream",
     "text": [
      "    x1  x2   x3    y\n",
      "0   73  80   75  152\n",
      "1   93  88   93  185\n",
      "2   89  91   90  180\n",
      "3   96  98  100  196\n",
      "4   73  66   70  142\n",
      "5   53  46   55  101\n",
      "6   69  74   77  149\n",
      "7   47  56   60  115\n",
      "8   87  79   90  175\n",
      "9   79  70   88  164\n",
      "10  69  70   73  141\n",
      "11  70  65   74  141\n",
      "12  93  95   91  184\n",
      "13  79  80   73  152\n",
      "14  70  73   78  148\n",
      "15  93  89   96  192\n",
      "16  78  75   68  147\n",
      "17  81  90   93  183\n",
      "18  88  92   86  177\n",
      "19  78  83   77  159\n",
      "20  82  86   90  177\n",
      "21  86  82   89  175\n",
      "22  78  83   85  175\n",
      "23  76  83   71  149\n",
      "24  96  93   95  192\n"
     ]
    }
   ],
   "source": [
    "Data = pd.read_csv(\"MultipleLR.csv\" , names=['x1' , 'x2' , 'x3' , 'y'])\n",
    "print(Data)"
   ]
  },
  {
   "cell_type": "code",
   "execution_count": 3,
   "id": "36b8979c",
   "metadata": {},
   "outputs": [
    {
     "name": "stdout",
     "output_type": "stream",
     "text": [
      "    Ones  x1  x2   x3    y\n",
      "0      1  73  80   75  152\n",
      "1      1  93  88   93  185\n",
      "2      1  89  91   90  180\n",
      "3      1  96  98  100  196\n",
      "4      1  73  66   70  142\n",
      "5      1  53  46   55  101\n",
      "6      1  69  74   77  149\n",
      "7      1  47  56   60  115\n",
      "8      1  87  79   90  175\n",
      "9      1  79  70   88  164\n",
      "10     1  69  70   73  141\n",
      "11     1  70  65   74  141\n",
      "12     1  93  95   91  184\n",
      "13     1  79  80   73  152\n",
      "14     1  70  73   78  148\n",
      "15     1  93  89   96  192\n",
      "16     1  78  75   68  147\n",
      "17     1  81  90   93  183\n",
      "18     1  88  92   86  177\n",
      "19     1  78  83   77  159\n",
      "20     1  82  86   90  177\n",
      "21     1  86  82   89  175\n",
      "22     1  78  83   85  175\n",
      "23     1  76  83   71  149\n",
      "24     1  96  93   95  192\n"
     ]
    }
   ],
   "source": [
    "Data.insert(0 , 'Ones' , 1)\n",
    "print(Data)"
   ]
  },
  {
   "cell_type": "code",
   "execution_count": 4,
   "id": "7460b2fb",
   "metadata": {},
   "outputs": [
    {
     "name": "stdout",
     "output_type": "stream",
     "text": [
      "(25,)\n"
     ]
    }
   ],
   "source": [
    "X=Data.iloc[: , 0:4]\n",
    "y = Data.iloc[: , -1]\n",
    "print(y.shape)"
   ]
  },
  {
   "cell_type": "code",
   "execution_count": 5,
   "id": "c6938f54",
   "metadata": {},
   "outputs": [
    {
     "data": {
      "text/html": [
       "<div>\n",
       "<style scoped>\n",
       "    .dataframe tbody tr th:only-of-type {\n",
       "        vertical-align: middle;\n",
       "    }\n",
       "\n",
       "    .dataframe tbody tr th {\n",
       "        vertical-align: top;\n",
       "    }\n",
       "\n",
       "    .dataframe thead th {\n",
       "        text-align: right;\n",
       "    }\n",
       "</style>\n",
       "<table border=\"1\" class=\"dataframe\">\n",
       "  <thead>\n",
       "    <tr style=\"text-align: right;\">\n",
       "      <th></th>\n",
       "      <th>Ones</th>\n",
       "      <th>x1</th>\n",
       "      <th>x2</th>\n",
       "      <th>x3</th>\n",
       "      <th>y</th>\n",
       "    </tr>\n",
       "  </thead>\n",
       "  <tbody>\n",
       "    <tr>\n",
       "      <th>0</th>\n",
       "      <td>1</td>\n",
       "      <td>73</td>\n",
       "      <td>80</td>\n",
       "      <td>75</td>\n",
       "      <td>152</td>\n",
       "    </tr>\n",
       "    <tr>\n",
       "      <th>1</th>\n",
       "      <td>1</td>\n",
       "      <td>93</td>\n",
       "      <td>88</td>\n",
       "      <td>93</td>\n",
       "      <td>185</td>\n",
       "    </tr>\n",
       "    <tr>\n",
       "      <th>2</th>\n",
       "      <td>1</td>\n",
       "      <td>89</td>\n",
       "      <td>91</td>\n",
       "      <td>90</td>\n",
       "      <td>180</td>\n",
       "    </tr>\n",
       "    <tr>\n",
       "      <th>3</th>\n",
       "      <td>1</td>\n",
       "      <td>96</td>\n",
       "      <td>98</td>\n",
       "      <td>100</td>\n",
       "      <td>196</td>\n",
       "    </tr>\n",
       "    <tr>\n",
       "      <th>4</th>\n",
       "      <td>1</td>\n",
       "      <td>73</td>\n",
       "      <td>66</td>\n",
       "      <td>70</td>\n",
       "      <td>142</td>\n",
       "    </tr>\n",
       "    <tr>\n",
       "      <th>5</th>\n",
       "      <td>1</td>\n",
       "      <td>53</td>\n",
       "      <td>46</td>\n",
       "      <td>55</td>\n",
       "      <td>101</td>\n",
       "    </tr>\n",
       "    <tr>\n",
       "      <th>6</th>\n",
       "      <td>1</td>\n",
       "      <td>69</td>\n",
       "      <td>74</td>\n",
       "      <td>77</td>\n",
       "      <td>149</td>\n",
       "    </tr>\n",
       "    <tr>\n",
       "      <th>7</th>\n",
       "      <td>1</td>\n",
       "      <td>47</td>\n",
       "      <td>56</td>\n",
       "      <td>60</td>\n",
       "      <td>115</td>\n",
       "    </tr>\n",
       "    <tr>\n",
       "      <th>8</th>\n",
       "      <td>1</td>\n",
       "      <td>87</td>\n",
       "      <td>79</td>\n",
       "      <td>90</td>\n",
       "      <td>175</td>\n",
       "    </tr>\n",
       "    <tr>\n",
       "      <th>9</th>\n",
       "      <td>1</td>\n",
       "      <td>79</td>\n",
       "      <td>70</td>\n",
       "      <td>88</td>\n",
       "      <td>164</td>\n",
       "    </tr>\n",
       "    <tr>\n",
       "      <th>10</th>\n",
       "      <td>1</td>\n",
       "      <td>69</td>\n",
       "      <td>70</td>\n",
       "      <td>73</td>\n",
       "      <td>141</td>\n",
       "    </tr>\n",
       "    <tr>\n",
       "      <th>11</th>\n",
       "      <td>1</td>\n",
       "      <td>70</td>\n",
       "      <td>65</td>\n",
       "      <td>74</td>\n",
       "      <td>141</td>\n",
       "    </tr>\n",
       "    <tr>\n",
       "      <th>12</th>\n",
       "      <td>1</td>\n",
       "      <td>93</td>\n",
       "      <td>95</td>\n",
       "      <td>91</td>\n",
       "      <td>184</td>\n",
       "    </tr>\n",
       "    <tr>\n",
       "      <th>13</th>\n",
       "      <td>1</td>\n",
       "      <td>79</td>\n",
       "      <td>80</td>\n",
       "      <td>73</td>\n",
       "      <td>152</td>\n",
       "    </tr>\n",
       "    <tr>\n",
       "      <th>14</th>\n",
       "      <td>1</td>\n",
       "      <td>70</td>\n",
       "      <td>73</td>\n",
       "      <td>78</td>\n",
       "      <td>148</td>\n",
       "    </tr>\n",
       "    <tr>\n",
       "      <th>15</th>\n",
       "      <td>1</td>\n",
       "      <td>93</td>\n",
       "      <td>89</td>\n",
       "      <td>96</td>\n",
       "      <td>192</td>\n",
       "    </tr>\n",
       "    <tr>\n",
       "      <th>16</th>\n",
       "      <td>1</td>\n",
       "      <td>78</td>\n",
       "      <td>75</td>\n",
       "      <td>68</td>\n",
       "      <td>147</td>\n",
       "    </tr>\n",
       "    <tr>\n",
       "      <th>17</th>\n",
       "      <td>1</td>\n",
       "      <td>81</td>\n",
       "      <td>90</td>\n",
       "      <td>93</td>\n",
       "      <td>183</td>\n",
       "    </tr>\n",
       "    <tr>\n",
       "      <th>18</th>\n",
       "      <td>1</td>\n",
       "      <td>88</td>\n",
       "      <td>92</td>\n",
       "      <td>86</td>\n",
       "      <td>177</td>\n",
       "    </tr>\n",
       "    <tr>\n",
       "      <th>19</th>\n",
       "      <td>1</td>\n",
       "      <td>78</td>\n",
       "      <td>83</td>\n",
       "      <td>77</td>\n",
       "      <td>159</td>\n",
       "    </tr>\n",
       "    <tr>\n",
       "      <th>20</th>\n",
       "      <td>1</td>\n",
       "      <td>82</td>\n",
       "      <td>86</td>\n",
       "      <td>90</td>\n",
       "      <td>177</td>\n",
       "    </tr>\n",
       "    <tr>\n",
       "      <th>21</th>\n",
       "      <td>1</td>\n",
       "      <td>86</td>\n",
       "      <td>82</td>\n",
       "      <td>89</td>\n",
       "      <td>175</td>\n",
       "    </tr>\n",
       "    <tr>\n",
       "      <th>22</th>\n",
       "      <td>1</td>\n",
       "      <td>78</td>\n",
       "      <td>83</td>\n",
       "      <td>85</td>\n",
       "      <td>175</td>\n",
       "    </tr>\n",
       "    <tr>\n",
       "      <th>23</th>\n",
       "      <td>1</td>\n",
       "      <td>76</td>\n",
       "      <td>83</td>\n",
       "      <td>71</td>\n",
       "      <td>149</td>\n",
       "    </tr>\n",
       "    <tr>\n",
       "      <th>24</th>\n",
       "      <td>1</td>\n",
       "      <td>96</td>\n",
       "      <td>93</td>\n",
       "      <td>95</td>\n",
       "      <td>192</td>\n",
       "    </tr>\n",
       "  </tbody>\n",
       "</table>\n",
       "</div>"
      ],
      "text/plain": [
       "    Ones  x1  x2   x3    y\n",
       "0      1  73  80   75  152\n",
       "1      1  93  88   93  185\n",
       "2      1  89  91   90  180\n",
       "3      1  96  98  100  196\n",
       "4      1  73  66   70  142\n",
       "5      1  53  46   55  101\n",
       "6      1  69  74   77  149\n",
       "7      1  47  56   60  115\n",
       "8      1  87  79   90  175\n",
       "9      1  79  70   88  164\n",
       "10     1  69  70   73  141\n",
       "11     1  70  65   74  141\n",
       "12     1  93  95   91  184\n",
       "13     1  79  80   73  152\n",
       "14     1  70  73   78  148\n",
       "15     1  93  89   96  192\n",
       "16     1  78  75   68  147\n",
       "17     1  81  90   93  183\n",
       "18     1  88  92   86  177\n",
       "19     1  78  83   77  159\n",
       "20     1  82  86   90  177\n",
       "21     1  86  82   89  175\n",
       "22     1  78  83   85  175\n",
       "23     1  76  83   71  149\n",
       "24     1  96  93   95  192"
      ]
     },
     "execution_count": 5,
     "metadata": {},
     "output_type": "execute_result"
    }
   ],
   "source": [
    "Data"
   ]
  },
  {
   "cell_type": "code",
   "execution_count": 6,
   "id": "d5337a2b",
   "metadata": {},
   "outputs": [
    {
     "data": {
      "text/html": [
       "<div>\n",
       "<style scoped>\n",
       "    .dataframe tbody tr th:only-of-type {\n",
       "        vertical-align: middle;\n",
       "    }\n",
       "\n",
       "    .dataframe tbody tr th {\n",
       "        vertical-align: top;\n",
       "    }\n",
       "\n",
       "    .dataframe thead th {\n",
       "        text-align: right;\n",
       "    }\n",
       "</style>\n",
       "<table border=\"1\" class=\"dataframe\">\n",
       "  <thead>\n",
       "    <tr style=\"text-align: right;\">\n",
       "      <th></th>\n",
       "      <th>Ones</th>\n",
       "      <th>x1</th>\n",
       "      <th>x2</th>\n",
       "      <th>x3</th>\n",
       "    </tr>\n",
       "  </thead>\n",
       "  <tbody>\n",
       "    <tr>\n",
       "      <th>0</th>\n",
       "      <td>1</td>\n",
       "      <td>73</td>\n",
       "      <td>80</td>\n",
       "      <td>75</td>\n",
       "    </tr>\n",
       "    <tr>\n",
       "      <th>1</th>\n",
       "      <td>1</td>\n",
       "      <td>93</td>\n",
       "      <td>88</td>\n",
       "      <td>93</td>\n",
       "    </tr>\n",
       "    <tr>\n",
       "      <th>2</th>\n",
       "      <td>1</td>\n",
       "      <td>89</td>\n",
       "      <td>91</td>\n",
       "      <td>90</td>\n",
       "    </tr>\n",
       "    <tr>\n",
       "      <th>3</th>\n",
       "      <td>1</td>\n",
       "      <td>96</td>\n",
       "      <td>98</td>\n",
       "      <td>100</td>\n",
       "    </tr>\n",
       "    <tr>\n",
       "      <th>4</th>\n",
       "      <td>1</td>\n",
       "      <td>73</td>\n",
       "      <td>66</td>\n",
       "      <td>70</td>\n",
       "    </tr>\n",
       "    <tr>\n",
       "      <th>5</th>\n",
       "      <td>1</td>\n",
       "      <td>53</td>\n",
       "      <td>46</td>\n",
       "      <td>55</td>\n",
       "    </tr>\n",
       "    <tr>\n",
       "      <th>6</th>\n",
       "      <td>1</td>\n",
       "      <td>69</td>\n",
       "      <td>74</td>\n",
       "      <td>77</td>\n",
       "    </tr>\n",
       "    <tr>\n",
       "      <th>7</th>\n",
       "      <td>1</td>\n",
       "      <td>47</td>\n",
       "      <td>56</td>\n",
       "      <td>60</td>\n",
       "    </tr>\n",
       "    <tr>\n",
       "      <th>8</th>\n",
       "      <td>1</td>\n",
       "      <td>87</td>\n",
       "      <td>79</td>\n",
       "      <td>90</td>\n",
       "    </tr>\n",
       "    <tr>\n",
       "      <th>9</th>\n",
       "      <td>1</td>\n",
       "      <td>79</td>\n",
       "      <td>70</td>\n",
       "      <td>88</td>\n",
       "    </tr>\n",
       "    <tr>\n",
       "      <th>10</th>\n",
       "      <td>1</td>\n",
       "      <td>69</td>\n",
       "      <td>70</td>\n",
       "      <td>73</td>\n",
       "    </tr>\n",
       "    <tr>\n",
       "      <th>11</th>\n",
       "      <td>1</td>\n",
       "      <td>70</td>\n",
       "      <td>65</td>\n",
       "      <td>74</td>\n",
       "    </tr>\n",
       "    <tr>\n",
       "      <th>12</th>\n",
       "      <td>1</td>\n",
       "      <td>93</td>\n",
       "      <td>95</td>\n",
       "      <td>91</td>\n",
       "    </tr>\n",
       "    <tr>\n",
       "      <th>13</th>\n",
       "      <td>1</td>\n",
       "      <td>79</td>\n",
       "      <td>80</td>\n",
       "      <td>73</td>\n",
       "    </tr>\n",
       "    <tr>\n",
       "      <th>14</th>\n",
       "      <td>1</td>\n",
       "      <td>70</td>\n",
       "      <td>73</td>\n",
       "      <td>78</td>\n",
       "    </tr>\n",
       "    <tr>\n",
       "      <th>15</th>\n",
       "      <td>1</td>\n",
       "      <td>93</td>\n",
       "      <td>89</td>\n",
       "      <td>96</td>\n",
       "    </tr>\n",
       "    <tr>\n",
       "      <th>16</th>\n",
       "      <td>1</td>\n",
       "      <td>78</td>\n",
       "      <td>75</td>\n",
       "      <td>68</td>\n",
       "    </tr>\n",
       "    <tr>\n",
       "      <th>17</th>\n",
       "      <td>1</td>\n",
       "      <td>81</td>\n",
       "      <td>90</td>\n",
       "      <td>93</td>\n",
       "    </tr>\n",
       "    <tr>\n",
       "      <th>18</th>\n",
       "      <td>1</td>\n",
       "      <td>88</td>\n",
       "      <td>92</td>\n",
       "      <td>86</td>\n",
       "    </tr>\n",
       "    <tr>\n",
       "      <th>19</th>\n",
       "      <td>1</td>\n",
       "      <td>78</td>\n",
       "      <td>83</td>\n",
       "      <td>77</td>\n",
       "    </tr>\n",
       "    <tr>\n",
       "      <th>20</th>\n",
       "      <td>1</td>\n",
       "      <td>82</td>\n",
       "      <td>86</td>\n",
       "      <td>90</td>\n",
       "    </tr>\n",
       "    <tr>\n",
       "      <th>21</th>\n",
       "      <td>1</td>\n",
       "      <td>86</td>\n",
       "      <td>82</td>\n",
       "      <td>89</td>\n",
       "    </tr>\n",
       "    <tr>\n",
       "      <th>22</th>\n",
       "      <td>1</td>\n",
       "      <td>78</td>\n",
       "      <td>83</td>\n",
       "      <td>85</td>\n",
       "    </tr>\n",
       "    <tr>\n",
       "      <th>23</th>\n",
       "      <td>1</td>\n",
       "      <td>76</td>\n",
       "      <td>83</td>\n",
       "      <td>71</td>\n",
       "    </tr>\n",
       "    <tr>\n",
       "      <th>24</th>\n",
       "      <td>1</td>\n",
       "      <td>96</td>\n",
       "      <td>93</td>\n",
       "      <td>95</td>\n",
       "    </tr>\n",
       "  </tbody>\n",
       "</table>\n",
       "</div>"
      ],
      "text/plain": [
       "    Ones  x1  x2   x3\n",
       "0      1  73  80   75\n",
       "1      1  93  88   93\n",
       "2      1  89  91   90\n",
       "3      1  96  98  100\n",
       "4      1  73  66   70\n",
       "5      1  53  46   55\n",
       "6      1  69  74   77\n",
       "7      1  47  56   60\n",
       "8      1  87  79   90\n",
       "9      1  79  70   88\n",
       "10     1  69  70   73\n",
       "11     1  70  65   74\n",
       "12     1  93  95   91\n",
       "13     1  79  80   73\n",
       "14     1  70  73   78\n",
       "15     1  93  89   96\n",
       "16     1  78  75   68\n",
       "17     1  81  90   93\n",
       "18     1  88  92   86\n",
       "19     1  78  83   77\n",
       "20     1  82  86   90\n",
       "21     1  86  82   89\n",
       "22     1  78  83   85\n",
       "23     1  76  83   71\n",
       "24     1  96  93   95"
      ]
     },
     "execution_count": 6,
     "metadata": {},
     "output_type": "execute_result"
    }
   ],
   "source": [
    "X"
   ]
  },
  {
   "cell_type": "markdown",
   "id": "d70fd761",
   "metadata": {},
   "source": [
    "### 1. Implement the Adam (Batch Version) algorithm to train a multivariable linear regression model.\n"
   ]
  },
  {
   "cell_type": "code",
   "execution_count": 7,
   "id": "6df6b10b",
   "metadata": {},
   "outputs": [],
   "source": [
    "def MultiAdamGradientDescent (X , y , alpha ,epochs , Epsilon , Betta0,Betta1 ) :\n",
    "    costs=[]\n",
    "    thetalist=[]\n",
    "    H_Thetalist=[]\n",
    "    theta =np.zeros(X.shape[1])\n",
    "    vt=np.zeros(X.shape[1])\n",
    "    mt=np.zeros(X.shape[1])\n",
    "    Grad_Thetalist=[]\n",
    "    m=len(X)\n",
    "    for i in range(epochs) : \n",
    "        H_Theta =  X @ theta \n",
    "        H_Thetalist.append(H_Theta)\n",
    "\n",
    "        Z = H_Theta - y\n",
    "        Z_Norm = np.linalg.norm(Z)\n",
    "\n",
    "        Loss = (1/(2* m))*np.power(Z_Norm , 2)  \n",
    "        costs.append(Loss)\n",
    "\n",
    "        Grad_Theta = (1/m) * (X.T @ Z  )\n",
    "        Grad_Thetalist.append(Grad_Theta)\n",
    "        mt=Betta0* mt + (1-Betta0) * Grad_Theta\n",
    "        mt_hat = mt / (1 - (Betta0**(i+1)))\n",
    "        vt= Betta1 * vt+ (1-Betta1) * np.power(Grad_Theta , 2)\n",
    "        vt_hat = vt / ( 1 - (Betta1**(i+1)))\n",
    "\n",
    "        theta =theta - (alpha / (np.sqrt(vt_hat) + Epsilon)) * mt_hat\n",
    "        thetalist.append(theta)\n",
    "        if i > 0 :\n",
    "            if abs(costs[i-1] - costs[i]) < 0.001 :\n",
    "                break\n",
    "            if abs(np.linalg.norm(Grad_Thetalist[i-1]) - np.linalg.norm(Grad_Thetalist[i])) < 0.001 :\n",
    "                break\n",
    "                \n",
    "    return thetalist , costs , H_Thetalist , theta"
   ]
  },
  {
   "cell_type": "code",
   "execution_count": 8,
   "id": "8b065e75",
   "metadata": {},
   "outputs": [
    {
     "name": "stdout",
     "output_type": "stream",
     "text": [
      "Theta 0 = 0.671743165446066 \n",
      "\n",
      "Theta 1 = 0.6708080368782714 \n",
      "\n",
      "Theta 2 = 0.6704983044091266 \n",
      "\n",
      "Theta 3 = 0.6774170376840492 \n",
      "\n"
     ]
    }
   ],
   "source": [
    "alpha = 0.0009\n",
    "epochs=1000\n",
    "Epsilon = 10E-8\n",
    "Betta0=0.9\n",
    "Betta1=0.9\n",
    "thetalist, costs , H_Thetalist , theta = MultiAdamGradientDescent(X , y , alpha ,epochs , Epsilon , Betta0,Betta1 )\n",
    "# print(\"thetalist0 = \" , thetalist0 , \"\\n\")\n",
    "# print(\"thetalist1 = \" , thetalist0 , \"\\n\")\n",
    "# print(\"costs = \" , costs , \"\\n\")\n",
    "# print(\"H_Thetalist = \" , H_Thetalist , \"\\n\")\n",
    "\n",
    "for i in range(len(theta)):\n",
    "    print(\"Theta\",i,\"=\" , theta[i] , \"\\n\")"
   ]
  },
  {
   "cell_type": "markdown",
   "id": "ccbd4414",
   "metadata": {},
   "source": [
    "### calculate R2 score"
   ]
  },
  {
   "cell_type": "code",
   "execution_count": 9,
   "id": "6328bc6e",
   "metadata": {},
   "outputs": [
    {
     "name": "stdout",
     "output_type": "stream",
     "text": [
      "Predict : \n",
      " 0     154.086872\n",
      "1     185.060526\n",
      "2     182.356538\n",
      "3     198.519852\n",
      "4     141.312811\n",
      "5     104.325428\n",
      "6     148.735484\n",
      "7     110.392648\n",
      "8     172.968942\n",
      "9     160.213159\n",
      "10    143.343823\n",
      "11    141.339556\n",
      "12    188.399180\n",
      "13    156.756886\n",
      "14    149.413211\n",
      "15    187.763275\n",
      "16    149.346501\n",
      "17    178.351826\n",
      "18    179.646560\n",
      "19    160.807241\n",
      "20    174.308390\n",
      "21    173.632212\n",
      "22    166.226578\n",
      "23    155.401123\n",
      "24    191.780276\n",
      "dtype: float64\n"
     ]
    }
   ],
   "source": [
    "H_Theta = X @ theta\n",
    "print(\"Predict : \\n\" , H_Theta)"
   ]
  },
  {
   "cell_type": "code",
   "execution_count": 10,
   "id": "2978e066",
   "metadata": {},
   "outputs": [
    {
     "name": "stdout",
     "output_type": "stream",
     "text": [
      "0.9784082189213092\n"
     ]
    }
   ],
   "source": [
    "SSres = np.sum(np.power((y - H_Theta) , 2))\n",
    "y_Mean = np.mean(y)\n",
    "SStot = np.sum(np.power((y - y_Mean) , 2))\n",
    "RSqaure = 1 - (SSres / SStot)\n",
    "print(RSqaure)"
   ]
  },
  {
   "cell_type": "markdown",
   "id": "09ff177f",
   "metadata": {},
   "source": [
    "### Plot loss vs. Iterations"
   ]
  },
  {
   "cell_type": "code",
   "execution_count": 11,
   "id": "309f7cb4",
   "metadata": {},
   "outputs": [
    {
     "data": {
      "image/png": "[encoded data removed]",
      "text/plain": [
       "<Figure size 432x288 with 1 Axes>"
      ]
     },
     "metadata": {
      "needs_background": "light"
     },
     "output_type": "display_data"
    }
   ],
   "source": [
    "plt.xlabel('Iterations')\n",
    "plt.ylabel('Loss')\n",
    "plt.plot(  costs , color='red')\n",
    "plt.grid()\n",
    "plt.show()"
   ]
  },
  {
   "cell_type": "markdown",
   "id": "6d54d87d",
   "metadata": {},
   "source": [
    "### Plot Theta_0 vs. loss "
   ]
  },
  {
   "cell_type": "code",
   "execution_count": 12,
   "id": "7dc827e0",
   "metadata": {},
   "outputs": [
    {
     "data": {
      "image/png": "[encoded data removed]",
      "text/plain": [
       "<Figure size 432x288 with 1 Axes>"
      ]
     },
     "metadata": {
      "needs_background": "light"
     },
     "output_type": "display_data"
    }
   ],
   "source": [
    "theta0=[t[0] for t in thetalist ]\n",
    "plt.xlabel('Theta0')\n",
    "plt.ylabel('Loss')\n",
    "plt.plot(  theta0 ,costs , color='red')\n",
    "plt.grid()\n",
    "plt.show()"
   ]
  },
  {
   "cell_type": "markdown",
   "id": "4f5d510e",
   "metadata": {},
   "source": [
    "### Plot Theta_1 vs. loss "
   ]
  },
  {
   "cell_type": "code",
   "execution_count": 13,
   "id": "9e091b06",
   "metadata": {},
   "outputs": [
    {
     "data": {
      "image/png": "[encoded data removed]",
      "text/plain": [
       "<Figure size 432x288 with 1 Axes>"
      ]
     },
     "metadata": {
      "needs_background": "light"
     },
     "output_type": "display_data"
    }
   ],
   "source": [
    "theta1=[t[1] for t in thetalist ]\n",
    "plt.xlabel('Theta1')\n",
    "plt.ylabel('Loss')\n",
    "plt.plot(  theta1 ,costs , color='red')\n",
    "plt.grid()\n",
    "plt.show()"
   ]
  },
  {
   "cell_type": "markdown",
   "id": "3c28af21",
   "metadata": {},
   "source": [
    "### Plot Theta_2 vs. loss "
   ]
  },
  {
   "cell_type": "code",
   "execution_count": 14,
   "id": "bfec423c",
   "metadata": {},
   "outputs": [
    {
     "data": {
      "image/png": "[encoded data removed]",
      "text/plain": [
       "<Figure size 432x288 with 1 Axes>"
      ]
     },
     "metadata": {
      "needs_background": "light"
     },
     "output_type": "display_data"
    }
   ],
   "source": [
    "theta2=[t[2] for t in thetalist ]\n",
    "plt.xlabel('Theta2')\n",
    "plt.ylabel('Loss')\n",
    "plt.plot(  theta2 ,costs , color='red')\n",
    "plt.grid()\n",
    "plt.show()"
   ]
  },
  {
   "cell_type": "markdown",
   "id": "a060a378",
   "metadata": {},
   "source": [
    "### Plot Theta_3 vs. loss "
   ]
  },
  {
   "cell_type": "code",
   "execution_count": 15,
   "id": "68628138",
   "metadata": {},
   "outputs": [
    {
     "data": {
      "image/png": "[encoded data removed]",
      "text/plain": [
       "<Figure size 432x288 with 1 Axes>"
      ]
     },
     "metadata": {
      "needs_background": "light"
     },
     "output_type": "display_data"
    }
   ],
   "source": [
    "theta3=[t[3] for t in thetalist ]\n",
    "plt.xlabel('Theta3')\n",
    "plt.ylabel('Loss')\n",
    "plt.plot(  theta3 ,costs , color='red')\n",
    "plt.grid()\n",
    "plt.show()"
   ]
  },
  {
   "cell_type": "markdown",
   "id": "9dbcb843",
   "metadata": {},
   "source": [
    "### 2. Update your implementation to work for mini-batch."
   ]
  },
  {
   "cell_type": "code",
   "execution_count": 16,
   "id": "1b96f923",
   "metadata": {},
   "outputs": [],
   "source": [
    "def create_batch(X, Y, batch_size) :\n",
    "    mini_batches=[]\n",
    "    no_of_batches=X.shape[0]//batch_size\n",
    "    for i in range(no_of_batches):\n",
    "        mini_batch=Data[i*batch_size:(i+1)*batch_size]\n",
    "        mini_batches.append((mini_batch.iloc[:, 0:4],mini_batch.iloc[:, -1]))\n",
    "    if X.shape[0]%batch_size!=0:\n",
    "            mini_batch=Data[(i+1)*batch_size:]\n",
    "            mini_batches.append((mini_batch.iloc[:, 0:4],mini_batch.iloc[:, -1]))\n",
    "    return mini_batches"
   ]
  },
  {
   "cell_type": "code",
   "execution_count": 17,
   "id": "e9a76a1e",
   "metadata": {},
   "outputs": [],
   "source": [
    "def MinibatchMultiAdamGradientDescent (X , y , alpha ,epochs , batch_size, Epsilon , Betta0,Betta1 ) :\n",
    "    costs=[]\n",
    "    thetalist=[]\n",
    "    H_Thetalist=[]\n",
    "    vt=np.zeros(X.shape[1])\n",
    "    mt=np.zeros(X.shape[1])\n",
    "    Grad_Thetalist=[]\n",
    "    theta =  np.zeros(X.shape[1])\n",
    "    m=len(X)\n",
    "    no_of_batches=X.shape[0]//batch_size\n",
    "    for i in range(epochs) : \n",
    "        batches=create_batch(X,y,batch_size)\n",
    "        \n",
    "        for batch in batches :\n",
    "            xb=batch[0]\n",
    "            yb=batch[1]\n",
    "\n",
    "            H_Theta =  xb @ theta\n",
    "            H_Thetalist.append(H_Theta)\n",
    "            \n",
    "            Z = H_Theta - yb\n",
    "            Loss = (1/(2* no_of_batches))*np.sum(np.power(Z , 2))\n",
    "            \n",
    "            Grad_Theta = (1/no_of_batches) * (xb.T @ Z )\n",
    "            \n",
    "            mt=Betta0* mt + (1-Betta0) * Grad_Theta\n",
    "            mt_hat = mt / (1 - (Betta0**(i+1)))\n",
    "            vt= Betta1 * vt+ (1-Betta1) * np.power(Grad_Theta , 2)\n",
    "            vt_hat = vt / ( 1 - (Betta1**(i+1)))\n",
    "            \n",
    "            theta =theta - (alpha / (np.sqrt(vt_hat) + Epsilon)) * mt_hat\n",
    "            \n",
    "        thetalist.append(theta)\n",
    "        Grad_Thetalist.append(Grad_Theta)\n",
    "        H_Theta_total = X @ theta\n",
    "        Z_total = H_Theta_total - y\n",
    "        costs.append((1/(2* no_of_batches))*np.sum(np.power(Z_total , 2)))\n",
    "        if i > 0 :\n",
    "            if abs(costs[i-1] - costs[i]) < 0.001 :\n",
    "                break\n",
    "            if abs(np.linalg.norm(Grad_Thetalist[i-1]) - np.linalg.norm(Grad_Thetalist[i])) < 0.001 :\n",
    "                break\n",
    "                \n",
    "    return thetalist , costs , H_Thetalist , theta"
   ]
  },
  {
   "cell_type": "code",
   "execution_count": 18,
   "id": "f8447f8d",
   "metadata": {},
   "outputs": [
    {
     "name": "stdout",
     "output_type": "stream",
     "text": [
      "Theta 0 = 0.6485683814278514 \n",
      "\n",
      "Theta 1 = 0.6343887941635441 \n",
      "\n",
      "Theta 2 = 0.6305169751481879 \n",
      "\n",
      "Theta 3 = 0.750902821403028 \n",
      "\n"
     ]
    }
   ],
   "source": [
    "alpha = 0.0005\n",
    "epochs=500\n",
    "batch_size= 4\n",
    "Epsilon = 10E-8\n",
    "Betta0=0.9\n",
    "Betta1=0.9\n",
    "Multi_Thetalist, Multi_Costs , Multi_H_Thetalist , Multi_Theta = MinibatchMultiAdamGradientDescent(X , y , alpha ,epochs , batch_size, Epsilon , Betta0,Betta1 )\n",
    "# print(\"thetalist0 = \" , thetalist0 , \"\\n\")\n",
    "# print(\"thetalist1 = \" , thetalist0 , \"\\n\")\n",
    "# print(\"costs = \" , costs , \"\\n\")\n",
    "# print(\"H_Thetalist = \" , H_Thetalist , \"\\n\")\n",
    "\n",
    "for i in range(len(Multi_Theta)):\n",
    "    print(\"Theta\",i,\"=\" , Multi_Theta[i] , \"\\n\")"
   ]
  },
  {
   "cell_type": "markdown",
   "id": "0e0390a0",
   "metadata": {},
   "source": [
    "### calculate R2 score"
   ]
  },
  {
   "cell_type": "code",
   "execution_count": 19,
   "id": "2dd5ff44",
   "metadata": {},
   "outputs": [
    {
     "name": "stdout",
     "output_type": "stream",
     "text": [
      "Predict : \n",
      " 0     153.718020\n",
      "1     184.966182\n",
      "2     182.067470\n",
      "3     198.430838\n",
      "4     141.136268\n",
      "5     104.574611\n",
      "6     148.899169\n",
      "7     110.827962\n",
      "8     173.232488\n",
      "9     160.980920\n",
      "10    143.373489\n",
      "11    141.606196\n",
      "12    187.877996\n",
      "13    156.022547\n",
      "14    149.653943\n",
      "15    187.849408\n",
      "16    148.481059\n",
      "17    178.614551\n",
      "18    179.059987\n",
      "19    160.283321\n",
      "20    174.474163\n",
      "21    173.738748\n",
      "22    166.290543\n",
      "23    154.509126\n",
      "24    191.523739\n",
      "dtype: float64\n"
     ]
    }
   ],
   "source": [
    "Multi_H_Theta = X @ Multi_Theta\n",
    "print(\"Predict : \\n\" , Multi_H_Theta)"
   ]
  },
  {
   "cell_type": "code",
   "execution_count": 20,
   "id": "c9eddec3",
   "metadata": {},
   "outputs": [
    {
     "name": "stdout",
     "output_type": "stream",
     "text": [
      "0.9816059049827964\n"
     ]
    }
   ],
   "source": [
    "SSres = np.sum(np.power((y - Multi_H_Theta) , 2))\n",
    "y_Mean = np.mean(y)\n",
    "SStot = np.sum(np.power((y - y_Mean) , 2))\n",
    "RSqaure = 1 - (SSres / SStot)\n",
    "print(RSqaure)"
   ]
  },
  {
   "cell_type": "markdown",
   "id": "38dbf045",
   "metadata": {},
   "source": [
    "### Plot loss vs. Iterations"
   ]
  },
  {
   "cell_type": "code",
   "execution_count": 21,
   "id": "037bd218",
   "metadata": {},
   "outputs": [
    {
     "data": {
      "image/png": "[encoded data removed]",
      "text/plain": [
       "<Figure size 432x288 with 1 Axes>"
      ]
     },
     "metadata": {
      "needs_background": "light"
     },
     "output_type": "display_data"
    }
   ],
   "source": [
    "plt.xlabel('Iterations')\n",
    "plt.ylabel('Loss')\n",
    "plt.plot(  Multi_Costs , color='red')\n",
    "plt.grid()\n",
    "plt.show()"
   ]
  },
  {
   "cell_type": "markdown",
   "id": "108c0508",
   "metadata": {},
   "source": [
    "### Plot Theta_0 vs. loss "
   ]
  },
  {
   "cell_type": "code",
   "execution_count": 22,
   "id": "30b5c6ec",
   "metadata": {},
   "outputs": [
    {
     "data": {
      "image/png": "[encoded data removed]",
      "text/plain": [
       "<Figure size 432x288 with 1 Axes>"
      ]
     },
     "metadata": {
      "needs_background": "light"
     },
     "output_type": "display_data"
    }
   ],
   "source": [
    "Theta0=[t[0] for t in Multi_Thetalist ]\n",
    "plt.xlabel('Theta0')\n",
    "plt.ylabel('Loss')\n",
    "plt.plot(  Theta0 ,Multi_Costs , color='red')\n",
    "plt.grid()\n",
    "plt.show()\n"
   ]
  },
  {
   "cell_type": "markdown",
   "id": "fb1dfa08",
   "metadata": {},
   "source": [
    "### Plot Theta_1 vs. loss "
   ]
  },
  {
   "cell_type": "code",
   "execution_count": 23,
   "id": "34ddfb04",
   "metadata": {},
   "outputs": [
    {
     "data": {
      "image/png": "[encoded data removed]",
      "text/plain": [
       "<Figure size 432x288 with 1 Axes>"
      ]
     },
     "metadata": {
      "needs_background": "light"
     },
     "output_type": "display_data"
    }
   ],
   "source": [
    "Theta1=[t[1] for t in Multi_Thetalist ]\n",
    "plt.xlabel('Theta1')\n",
    "plt.ylabel('Loss')\n",
    "plt.plot(  Theta1 ,Multi_Costs , color='red')\n",
    "plt.grid()\n",
    "plt.show()"
   ]
  },
  {
   "cell_type": "markdown",
   "id": "87816a81",
   "metadata": {},
   "source": [
    "### Plot Theta_2 vs. loss "
   ]
  },
  {
   "cell_type": "code",
   "execution_count": 24,
   "id": "7a05bd0b",
   "metadata": {},
   "outputs": [
    {
     "data": {
      "image/png": "[encoded data removed]",
      "text/plain": [
       "<Figure size 432x288 with 1 Axes>"
      ]
     },
     "metadata": {
      "needs_background": "light"
     },
     "output_type": "display_data"
    }
   ],
   "source": [
    "Theta2=[t[2] for t in Multi_Thetalist ]\n",
    "plt.xlabel('Theta2')\n",
    "plt.ylabel('Loss')\n",
    "plt.plot(  Theta2 ,Multi_Costs , color='red')\n",
    "plt.grid()\n",
    "plt.show()"
   ]
  },
  {
   "cell_type": "markdown",
   "id": "bd6882e9",
   "metadata": {},
   "source": [
    "### Plot Theta_3 vs. loss "
   ]
  },
  {
   "cell_type": "code",
   "execution_count": 25,
   "id": "168c136e",
   "metadata": {},
   "outputs": [
    {
     "data": {
      "image/png": "[encoded data removed]",
      "text/plain": [
       "<Figure size 432x288 with 1 Axes>"
      ]
     },
     "metadata": {
      "needs_background": "light"
     },
     "output_type": "display_data"
    }
   ],
   "source": [
    "Theta3=[t[3] for t in Multi_Thetalist ]\n",
    "plt.xlabel('Theta3')\n",
    "plt.ylabel('Loss')\n",
    "plt.plot(  Theta3 ,Multi_Costs , color='red')\n",
    "plt.grid()\n",
    "plt.show()"
   ]
  },
  {
   "cell_type": "markdown",
   "id": "ebc1a2dd",
   "metadata": {},
   "source": [
    "## With Shuffle Data"
   ]
  },
  {
   "cell_type": "code",
   "execution_count": 26,
   "id": "35d51b24",
   "metadata": {},
   "outputs": [
    {
     "name": "stdout",
     "output_type": "stream",
     "text": [
      "    Ones  x1  x2   x3    y\n",
      "5      1  53  46   55  101\n",
      "2      1  89  91   90  180\n",
      "19     1  78  83   77  159\n",
      "16     1  78  75   68  147\n",
      "11     1  70  65   74  141\n",
      "22     1  78  83   85  175\n",
      "17     1  81  90   93  183\n",
      "24     1  96  93   95  192\n",
      "23     1  76  83   71  149\n",
      "14     1  70  73   78  148\n",
      "1      1  93  88   93  185\n",
      "10     1  69  70   73  141\n",
      "13     1  79  80   73  152\n",
      "8      1  87  79   90  175\n",
      "6      1  69  74   77  149\n",
      "18     1  88  92   86  177\n",
      "4      1  73  66   70  142\n",
      "9      1  79  70   88  164\n",
      "7      1  47  56   60  115\n",
      "20     1  82  86   90  177\n",
      "3      1  96  98  100  196\n",
      "0      1  73  80   75  152\n",
      "21     1  86  82   89  175\n",
      "15     1  93  89   96  192\n",
      "12     1  93  95   91  184\n"
     ]
    }
   ],
   "source": [
    "Data_Sh = Data.sample(frac=1, random_state=0)\n",
    "print(Data_Sh)"
   ]
  },
  {
   "cell_type": "code",
   "execution_count": 27,
   "id": "e2568195",
   "metadata": {},
   "outputs": [
    {
     "name": "stdout",
     "output_type": "stream",
     "text": [
      "(25,)\n"
     ]
    }
   ],
   "source": [
    "X=Data_Sh.iloc[: , 0:4]\n",
    "y = Data_Sh.iloc[: , -1]\n",
    "print(y.shape)"
   ]
  },
  {
   "cell_type": "code",
   "execution_count": 28,
   "id": "318fd722",
   "metadata": {},
   "outputs": [
    {
     "data": {
      "text/html": [
       "<div>\n",
       "<style scoped>\n",
       "    .dataframe tbody tr th:only-of-type {\n",
       "        vertical-align: middle;\n",
       "    }\n",
       "\n",
       "    .dataframe tbody tr th {\n",
       "        vertical-align: top;\n",
       "    }\n",
       "\n",
       "    .dataframe thead th {\n",
       "        text-align: right;\n",
       "    }\n",
       "</style>\n",
       "<table border=\"1\" class=\"dataframe\">\n",
       "  <thead>\n",
       "    <tr style=\"text-align: right;\">\n",
       "      <th></th>\n",
       "      <th>Ones</th>\n",
       "      <th>x1</th>\n",
       "      <th>x2</th>\n",
       "      <th>x3</th>\n",
       "    </tr>\n",
       "  </thead>\n",
       "  <tbody>\n",
       "    <tr>\n",
       "      <th>5</th>\n",
       "      <td>1</td>\n",
       "      <td>53</td>\n",
       "      <td>46</td>\n",
       "      <td>55</td>\n",
       "    </tr>\n",
       "    <tr>\n",
       "      <th>2</th>\n",
       "      <td>1</td>\n",
       "      <td>89</td>\n",
       "      <td>91</td>\n",
       "      <td>90</td>\n",
       "    </tr>\n",
       "    <tr>\n",
       "      <th>19</th>\n",
       "      <td>1</td>\n",
       "      <td>78</td>\n",
       "      <td>83</td>\n",
       "      <td>77</td>\n",
       "    </tr>\n",
       "    <tr>\n",
       "      <th>16</th>\n",
       "      <td>1</td>\n",
       "      <td>78</td>\n",
       "      <td>75</td>\n",
       "      <td>68</td>\n",
       "    </tr>\n",
       "    <tr>\n",
       "      <th>11</th>\n",
       "      <td>1</td>\n",
       "      <td>70</td>\n",
       "      <td>65</td>\n",
       "      <td>74</td>\n",
       "    </tr>\n",
       "    <tr>\n",
       "      <th>22</th>\n",
       "      <td>1</td>\n",
       "      <td>78</td>\n",
       "      <td>83</td>\n",
       "      <td>85</td>\n",
       "    </tr>\n",
       "    <tr>\n",
       "      <th>17</th>\n",
       "      <td>1</td>\n",
       "      <td>81</td>\n",
       "      <td>90</td>\n",
       "      <td>93</td>\n",
       "    </tr>\n",
       "    <tr>\n",
       "      <th>24</th>\n",
       "      <td>1</td>\n",
       "      <td>96</td>\n",
       "      <td>93</td>\n",
       "      <td>95</td>\n",
       "    </tr>\n",
       "    <tr>\n",
       "      <th>23</th>\n",
       "      <td>1</td>\n",
       "      <td>76</td>\n",
       "      <td>83</td>\n",
       "      <td>71</td>\n",
       "    </tr>\n",
       "    <tr>\n",
       "      <th>14</th>\n",
       "      <td>1</td>\n",
       "      <td>70</td>\n",
       "      <td>73</td>\n",
       "      <td>78</td>\n",
       "    </tr>\n",
       "    <tr>\n",
       "      <th>1</th>\n",
       "      <td>1</td>\n",
       "      <td>93</td>\n",
       "      <td>88</td>\n",
       "      <td>93</td>\n",
       "    </tr>\n",
       "    <tr>\n",
       "      <th>10</th>\n",
       "      <td>1</td>\n",
       "      <td>69</td>\n",
       "      <td>70</td>\n",
       "      <td>73</td>\n",
       "    </tr>\n",
       "    <tr>\n",
       "      <th>13</th>\n",
       "      <td>1</td>\n",
       "      <td>79</td>\n",
       "      <td>80</td>\n",
       "      <td>73</td>\n",
       "    </tr>\n",
       "    <tr>\n",
       "      <th>8</th>\n",
       "      <td>1</td>\n",
       "      <td>87</td>\n",
       "      <td>79</td>\n",
       "      <td>90</td>\n",
       "    </tr>\n",
       "    <tr>\n",
       "      <th>6</th>\n",
       "      <td>1</td>\n",
       "      <td>69</td>\n",
       "      <td>74</td>\n",
       "      <td>77</td>\n",
       "    </tr>\n",
       "    <tr>\n",
       "      <th>18</th>\n",
       "      <td>1</td>\n",
       "      <td>88</td>\n",
       "      <td>92</td>\n",
       "      <td>86</td>\n",
       "    </tr>\n",
       "    <tr>\n",
       "      <th>4</th>\n",
       "      <td>1</td>\n",
       "      <td>73</td>\n",
       "      <td>66</td>\n",
       "      <td>70</td>\n",
       "    </tr>\n",
       "    <tr>\n",
       "      <th>9</th>\n",
       "      <td>1</td>\n",
       "      <td>79</td>\n",
       "      <td>70</td>\n",
       "      <td>88</td>\n",
       "    </tr>\n",
       "    <tr>\n",
       "      <th>7</th>\n",
       "      <td>1</td>\n",
       "      <td>47</td>\n",
       "      <td>56</td>\n",
       "      <td>60</td>\n",
       "    </tr>\n",
       "    <tr>\n",
       "      <th>20</th>\n",
       "      <td>1</td>\n",
       "      <td>82</td>\n",
       "      <td>86</td>\n",
       "      <td>90</td>\n",
       "    </tr>\n",
       "    <tr>\n",
       "      <th>3</th>\n",
       "      <td>1</td>\n",
       "      <td>96</td>\n",
       "      <td>98</td>\n",
       "      <td>100</td>\n",
       "    </tr>\n",
       "    <tr>\n",
       "      <th>0</th>\n",
       "      <td>1</td>\n",
       "      <td>73</td>\n",
       "      <td>80</td>\n",
       "      <td>75</td>\n",
       "    </tr>\n",
       "    <tr>\n",
       "      <th>21</th>\n",
       "      <td>1</td>\n",
       "      <td>86</td>\n",
       "      <td>82</td>\n",
       "      <td>89</td>\n",
       "    </tr>\n",
       "    <tr>\n",
       "      <th>15</th>\n",
       "      <td>1</td>\n",
       "      <td>93</td>\n",
       "      <td>89</td>\n",
       "      <td>96</td>\n",
       "    </tr>\n",
       "    <tr>\n",
       "      <th>12</th>\n",
       "      <td>1</td>\n",
       "      <td>93</td>\n",
       "      <td>95</td>\n",
       "      <td>91</td>\n",
       "    </tr>\n",
       "  </tbody>\n",
       "</table>\n",
       "</div>"
      ],
      "text/plain": [
       "    Ones  x1  x2   x3\n",
       "5      1  53  46   55\n",
       "2      1  89  91   90\n",
       "19     1  78  83   77\n",
       "16     1  78  75   68\n",
       "11     1  70  65   74\n",
       "22     1  78  83   85\n",
       "17     1  81  90   93\n",
       "24     1  96  93   95\n",
       "23     1  76  83   71\n",
       "14     1  70  73   78\n",
       "1      1  93  88   93\n",
       "10     1  69  70   73\n",
       "13     1  79  80   73\n",
       "8      1  87  79   90\n",
       "6      1  69  74   77\n",
       "18     1  88  92   86\n",
       "4      1  73  66   70\n",
       "9      1  79  70   88\n",
       "7      1  47  56   60\n",
       "20     1  82  86   90\n",
       "3      1  96  98  100\n",
       "0      1  73  80   75\n",
       "21     1  86  82   89\n",
       "15     1  93  89   96\n",
       "12     1  93  95   91"
      ]
     },
     "execution_count": 28,
     "metadata": {},
     "output_type": "execute_result"
    }
   ],
   "source": [
    "X"
   ]
  },
  {
   "cell_type": "markdown",
   "id": "c6f90fce",
   "metadata": {},
   "source": [
    "### 1. Implement the Adam (Batch Version) algorithm to train a multivariable linear regression model."
   ]
  },
  {
   "cell_type": "code",
   "execution_count": 29,
   "id": "d08d4922",
   "metadata": {},
   "outputs": [
    {
     "name": "stdout",
     "output_type": "stream",
     "text": [
      "Theta 0 = 0.6717431654460658 \n",
      "\n",
      "Theta 1 = 0.6708080368782715 \n",
      "\n",
      "Theta 2 = 0.6704983044091265 \n",
      "\n",
      "Theta 3 = 0.6774170376840492 \n",
      "\n"
     ]
    }
   ],
   "source": [
    "alpha = 0.0009\n",
    "epochs=1000\n",
    "Epsilon = 10E-8\n",
    "Betta0=0.9\n",
    "Betta1=0.9\n",
    "thetalist, costs , H_Thetalist , theta = MultiAdamGradientDescent(X , y , alpha ,epochs , Epsilon , Betta0,Betta1 )\n",
    "# print(\"thetalist0 = \" , thetalist0 , \"\\n\")\n",
    "# print(\"thetalist1 = \" , thetalist0 , \"\\n\")\n",
    "# print(\"costs = \" , costs , \"\\n\")\n",
    "# print(\"H_Thetalist = \" , H_Thetalist , \"\\n\")\n",
    "\n",
    "for i in range(len(theta)):\n",
    "    print(\"Theta\",i,\"=\" , theta[i] , \"\\n\")"
   ]
  },
  {
   "cell_type": "markdown",
   "id": "41a5f5a5",
   "metadata": {},
   "source": [
    "### calculate R2 score"
   ]
  },
  {
   "cell_type": "code",
   "execution_count": 30,
   "id": "02e54916",
   "metadata": {},
   "outputs": [
    {
     "name": "stdout",
     "output_type": "stream",
     "text": [
      "Predict : \n",
      " 5     104.325428\n",
      "2     182.356538\n",
      "19    160.807241\n",
      "16    149.346501\n",
      "11    141.339556\n",
      "22    166.226578\n",
      "17    178.351826\n",
      "24    191.780276\n",
      "23    155.401123\n",
      "14    149.413211\n",
      "1     185.060526\n",
      "10    143.343823\n",
      "13    156.756886\n",
      "8     172.968942\n",
      "6     148.735484\n",
      "18    179.646560\n",
      "4     141.312811\n",
      "9     160.213159\n",
      "7     110.392648\n",
      "20    174.308390\n",
      "3     198.519852\n",
      "0     154.086872\n",
      "21    173.632212\n",
      "15    187.763275\n",
      "12    188.399180\n",
      "dtype: float64\n"
     ]
    }
   ],
   "source": [
    "H_Theta = X @ theta\n",
    "print(\"Predict : \\n\" , H_Theta)"
   ]
  },
  {
   "cell_type": "code",
   "execution_count": 31,
   "id": "d2e03e0b",
   "metadata": {},
   "outputs": [
    {
     "name": "stdout",
     "output_type": "stream",
     "text": [
      "0.9784082189213092\n"
     ]
    }
   ],
   "source": [
    "SSres = np.sum(np.power((y - H_Theta) , 2))\n",
    "y_Mean = np.mean(y)\n",
    "SStot = np.sum(np.power((y - y_Mean) , 2))\n",
    "RSqaure = 1 - (SSres / SStot)\n",
    "print(RSqaure)"
   ]
  },
  {
   "cell_type": "markdown",
   "id": "7c83d47e",
   "metadata": {},
   "source": [
    "### Plot loss vs. Iterations"
   ]
  },
  {
   "cell_type": "code",
   "execution_count": 32,
   "id": "7bcb8f9f",
   "metadata": {},
   "outputs": [
    {
     "data": {
      "image/png": "[encoded data removed]",
      "text/plain": [
       "<Figure size 432x288 with 1 Axes>"
      ]
     },
     "metadata": {
      "needs_background": "light"
     },
     "output_type": "display_data"
    }
   ],
   "source": [
    "plt.xlabel('Iterations')\n",
    "plt.ylabel('Loss')\n",
    "plt.plot(  costs , color='red')\n",
    "plt.grid()\n",
    "plt.show()"
   ]
  },
  {
   "cell_type": "markdown",
   "id": "23b01f04",
   "metadata": {},
   "source": [
    "### Plot Theta_0 vs. loss "
   ]
  },
  {
   "cell_type": "code",
   "execution_count": 33,
   "id": "eb3a9250",
   "metadata": {},
   "outputs": [
    {
     "data": {
      "image/png": "[encoded data removed]",
      "text/plain": [
       "<Figure size 432x288 with 1 Axes>"
      ]
     },
     "metadata": {
      "needs_background": "light"
     },
     "output_type": "display_data"
    }
   ],
   "source": [
    "theta0=[t[0] for t in thetalist ]\n",
    "plt.xlabel('Theta0')\n",
    "plt.ylabel('Loss')\n",
    "plt.plot(  theta0 ,costs , color='red')\n",
    "plt.grid()\n",
    "plt.show()"
   ]
  },
  {
   "cell_type": "markdown",
   "id": "c6756ebc",
   "metadata": {},
   "source": [
    "### Plot Theta_1 vs. loss "
   ]
  },
  {
   "cell_type": "code",
   "execution_count": 34,
   "id": "49087b2f",
   "metadata": {},
   "outputs": [
    {
     "data": {
      "image/png": "[encoded data removed]",
      "text/plain": [
       "<Figure size 432x288 with 1 Axes>"
      ]
     },
     "metadata": {
      "needs_background": "light"
     },
     "output_type": "display_data"
    }
   ],
   "source": [
    "theta1=[t[1] for t in thetalist ]\n",
    "plt.xlabel('Theta1')\n",
    "plt.ylabel('Loss')\n",
    "plt.plot(  theta1 ,costs , color='red')\n",
    "plt.grid()\n",
    "plt.show()"
   ]
  },
  {
   "cell_type": "markdown",
   "id": "14c54482",
   "metadata": {},
   "source": [
    "### Plot Theta_2 vs. loss "
   ]
  },
  {
   "cell_type": "code",
   "execution_count": 35,
   "id": "308a69d9",
   "metadata": {},
   "outputs": [
    {
     "data": {
      "image/png": "[encoded data removed]",
      "text/plain": [
       "<Figure size 432x288 with 1 Axes>"
      ]
     },
     "metadata": {
      "needs_background": "light"
     },
     "output_type": "display_data"
    }
   ],
   "source": [
    "theta2=[t[2] for t in thetalist ]\n",
    "plt.xlabel('Theta2')\n",
    "plt.ylabel('Loss')\n",
    "plt.plot(  theta2 ,costs , color='red')\n",
    "plt.grid()\n",
    "plt.show()"
   ]
  },
  {
   "cell_type": "markdown",
   "id": "1c902c32",
   "metadata": {},
   "source": [
    "### Plot Theta_3 vs. loss "
   ]
  },
  {
   "cell_type": "code",
   "execution_count": 36,
   "id": "bc9bb167",
   "metadata": {},
   "outputs": [
    {
     "data": {
      "image/png": "[encoded data removed]",
      "text/plain": [
       "<Figure size 432x288 with 1 Axes>"
      ]
     },
     "metadata": {
      "needs_background": "light"
     },
     "output_type": "display_data"
    }
   ],
   "source": [
    "theta3=[t[3] for t in thetalist ]\n",
    "plt.xlabel('Theta3')\n",
    "plt.ylabel('Loss')\n",
    "plt.plot(  theta3 ,costs , color='red')\n",
    "plt.grid()\n",
    "plt.show()"
   ]
  },
  {
   "cell_type": "markdown",
   "id": "72dce5f1",
   "metadata": {},
   "source": [
    "### 2. Update your implementation to work for mini-batch."
   ]
  },
  {
   "cell_type": "code",
   "execution_count": 37,
   "id": "2b353afc",
   "metadata": {},
   "outputs": [
    {
     "name": "stdout",
     "output_type": "stream",
     "text": [
      "Theta 0 = 0.6485683814278514 \n",
      "\n",
      "Theta 1 = 0.6343887941635441 \n",
      "\n",
      "Theta 2 = 0.6305169751481879 \n",
      "\n",
      "Theta 3 = 0.750902821403028 \n",
      "\n"
     ]
    }
   ],
   "source": [
    "alpha = 0.0005\n",
    "epochs=500\n",
    "batch_size= 4\n",
    "Epsilon = 10E-8\n",
    "Betta0=0.9\n",
    "Betta1=0.9\n",
    "Multi_Thetalist, Multi_Costs , Multi_H_Thetalist , Multi_Theta = MinibatchMultiAdamGradientDescent(X , y , alpha ,epochs , batch_size, Epsilon , Betta0,Betta1 )\n",
    "# print(\"thetalist0 = \" , thetalist0 , \"\\n\")\n",
    "# print(\"thetalist1 = \" , thetalist0 , \"\\n\")\n",
    "# print(\"costs = \" , costs , \"\\n\")\n",
    "# print(\"H_Thetalist = \" , H_Thetalist , \"\\n\")\n",
    "\n",
    "for i in range(len(Multi_Theta)):\n",
    "    print(\"Theta\",i,\"=\" , Multi_Theta[i] , \"\\n\")"
   ]
  },
  {
   "cell_type": "markdown",
   "id": "3164333c",
   "metadata": {},
   "source": [
    "### calculate R2 score"
   ]
  },
  {
   "cell_type": "code",
   "execution_count": 38,
   "id": "f2008df6",
   "metadata": {},
   "outputs": [
    {
     "name": "stdout",
     "output_type": "stream",
     "text": [
      "Predict : \n",
      " 5     104.574611\n",
      "2     182.067470\n",
      "19    160.283321\n",
      "16    148.481059\n",
      "11    141.606196\n",
      "22    166.290543\n",
      "17    178.614551\n",
      "24    191.523739\n",
      "23    154.509126\n",
      "14    149.653943\n",
      "1     184.966182\n",
      "10    143.373489\n",
      "13    156.022547\n",
      "8     173.232488\n",
      "6     148.899169\n",
      "18    179.059987\n",
      "4     141.136268\n",
      "9     160.980920\n",
      "7     110.827962\n",
      "20    174.474163\n",
      "3     198.430838\n",
      "0     153.718020\n",
      "21    173.738748\n",
      "15    187.849408\n",
      "12    187.877996\n",
      "dtype: float64\n"
     ]
    }
   ],
   "source": [
    "Multi_H_Theta = X @ Multi_Theta\n",
    "print(\"Predict : \\n\" , Multi_H_Theta)"
   ]
  },
  {
   "cell_type": "code",
   "execution_count": 39,
   "id": "c9b66135",
   "metadata": {},
   "outputs": [
    {
     "name": "stdout",
     "output_type": "stream",
     "text": [
      "0.9816059049827964\n"
     ]
    }
   ],
   "source": [
    "SSres = np.sum(np.power((y - Multi_H_Theta) , 2))\n",
    "y_Mean = np.mean(y)\n",
    "SStot = np.sum(np.power((y - y_Mean) , 2))\n",
    "RSqaure = 1 - (SSres / SStot)\n",
    "print(RSqaure)"
   ]
  },
  {
   "cell_type": "markdown",
   "id": "bf184cbe",
   "metadata": {},
   "source": [
    "### Plot loss vs. Iterations"
   ]
  },
  {
   "cell_type": "code",
   "execution_count": 40,
   "id": "2df75596",
   "metadata": {},
   "outputs": [
    {
     "data": {
      "image/png": "[encoded data removed]",
      "text/plain": [
       "<Figure size 432x288 with 1 Axes>"
      ]
     },
     "metadata": {
      "needs_background": "light"
     },
     "output_type": "display_data"
    }
   ],
   "source": [
    "plt.xlabel('Iterations')\n",
    "plt.ylabel('Loss')\n",
    "plt.plot(  Multi_Costs , color='red')\n",
    "plt.grid()\n",
    "plt.show()"
   ]
  },
  {
   "cell_type": "markdown",
   "id": "33820c33",
   "metadata": {},
   "source": [
    "### Plot Theta_0 vs. loss "
   ]
  },
  {
   "cell_type": "code",
   "execution_count": 41,
   "id": "f94ec918",
   "metadata": {},
   "outputs": [
    {
     "data": {
      "image/png": "[encoded data removed]",
      "text/plain": [
       "<Figure size 432x288 with 1 Axes>"
      ]
     },
     "metadata": {
      "needs_background": "light"
     },
     "output_type": "display_data"
    }
   ],
   "source": [
    "Theta0=[t[0] for t in Multi_Thetalist ]\n",
    "plt.xlabel('Theta0')\n",
    "plt.ylabel('Loss')\n",
    "plt.plot(  Theta0 ,Multi_Costs , color='red')\n",
    "plt.grid()\n",
    "plt.show()\n"
   ]
  },
  {
   "cell_type": "markdown",
   "id": "26000b7b",
   "metadata": {},
   "source": [
    "### Plot Theta_1 vs. loss "
   ]
  },
  {
   "cell_type": "code",
   "execution_count": 42,
   "id": "7514fe42",
   "metadata": {},
   "outputs": [
    {
     "data": {
      "image/png": "[encoded data removed]",
      "text/plain": [
       "<Figure size 432x288 with 1 Axes>"
      ]
     },
     "metadata": {
      "needs_background": "light"
     },
     "output_type": "display_data"
    }
   ],
   "source": [
    "Theta1=[t[1] for t in Multi_Thetalist ]\n",
    "plt.xlabel('Theta1')\n",
    "plt.ylabel('Loss')\n",
    "plt.plot(  Theta1 ,Multi_Costs , color='red')\n",
    "plt.grid()\n",
    "plt.show()"
   ]
  },
  {
   "cell_type": "markdown",
   "id": "cedfb4cf",
   "metadata": {},
   "source": [
    "### Plot Theta_2 vs. loss "
   ]
  },
  {
   "cell_type": "code",
   "execution_count": 43,
   "id": "6ff78601",
   "metadata": {},
   "outputs": [
    {
     "data": {
      "image/png": "[encoded data removed]",
      "text/plain": [
       "<Figure size 432x288 with 1 Axes>"
      ]
     },
     "metadata": {
      "needs_background": "light"
     },
     "output_type": "display_data"
    }
   ],
   "source": [
    "Theta2=[t[2] for t in Multi_Thetalist ]\n",
    "plt.xlabel('Theta2')\n",
    "plt.ylabel('Loss')\n",
    "plt.plot(  Theta2 ,Multi_Costs , color='red')\n",
    "plt.grid()\n",
    "plt.show()"
   ]
  },
  {
   "cell_type": "markdown",
   "id": "c4f72b3d",
   "metadata": {},
   "source": [
    "### Plot Theta_3 vs. loss "
   ]
  },
  {
   "cell_type": "code",
   "execution_count": 44,
   "id": "0d359727",
   "metadata": {},
   "outputs": [
    {
     "data": {
      "image/png": "[encoded data removed]",
      "text/plain": [
       "<Figure size 432x288 with 1 Axes>"
      ]
     },
     "metadata": {
      "needs_background": "light"
     },
     "output_type": "display_data"
    }
   ],
   "source": [
    "Theta3=[t[3] for t in Multi_Thetalist ]\n",
    "plt.xlabel('Theta3')\n",
    "plt.ylabel('Loss')\n",
    "plt.plot(  Theta3 ,Multi_Costs , color='red')\n",
    "plt.grid()\n",
    "plt.show()"
   ]
  }
 ],
 "metadata": {
  "colab": {
   "name": "NOFML&DS Final Practical Exam.ipynb",
   "provenance": []
  },
  "kernelspec": {
   "display_name": "Python 3 (ipykernel)",
   "language": "python",
   "name": "python3"
  },
  "language_info": {
   "codemirror_mode": {
    "name": "ipython",
    "version": 3
   },
   "file_extension": ".py",
   "mimetype": "text/x-python",
   "name": "python",
   "nbconvert_exporter": "python",
   "pygments_lexer": "ipython3",
   "version": "3.9.7"
  }
 },
 "nbformat": 4,
 "nbformat_minor": 5
}
